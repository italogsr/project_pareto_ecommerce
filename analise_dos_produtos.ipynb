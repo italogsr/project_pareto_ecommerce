{
 "cells": [
  {
   "cell_type": "code",
   "execution_count": 1,
   "metadata": {},
   "outputs": [],
   "source": [
    "#Imports\n",
    "import pandas as pd"
   ]
  },
  {
   "cell_type": "code",
   "execution_count": 3,
   "metadata": {},
   "outputs": [
    {
     "name": "stdout",
     "output_type": "stream",
     "text": [
      "analise_dos_produtos.ipynb  gdg_scrapy\t links.csv  product_info.json\r\n",
      "extract_xml.ipynb\t    links_2.csv  main.py    read_xml.ipynb\r\n"
     ]
    }
   ],
   "source": [
    "!ls"
   ]
  },
  {
   "cell_type": "code",
   "execution_count": 2,
   "metadata": {},
   "outputs": [],
   "source": [
    "df_raw = pd.read_json('product_info.json')"
   ]
  },
  {
   "cell_type": "code",
   "execution_count": 4,
   "metadata": {},
   "outputs": [
    {
     "data": {
      "text/html": [
       "<div>\n",
       "<style scoped>\n",
       "    .dataframe tbody tr th:only-of-type {\n",
       "        vertical-align: middle;\n",
       "    }\n",
       "\n",
       "    .dataframe tbody tr th {\n",
       "        vertical-align: top;\n",
       "    }\n",
       "\n",
       "    .dataframe thead th {\n",
       "        text-align: right;\n",
       "    }\n",
       "</style>\n",
       "<table border=\"1\" class=\"dataframe\">\n",
       "  <thead>\n",
       "    <tr style=\"text-align: right;\">\n",
       "      <th></th>\n",
       "      <th>url</th>\n",
       "      <th>nome</th>\n",
       "      <th>id</th>\n",
       "      <th>cor</th>\n",
       "      <th>espec</th>\n",
       "      <th>categoria</th>\n",
       "      <th>preco_antigo</th>\n",
       "      <th>preco_atual</th>\n",
       "      <th>preco_boleto</th>\n",
       "      <th>condicao_parcela</th>\n",
       "      <th>desconto_destaque</th>\n",
       "    </tr>\n",
       "  </thead>\n",
       "  <tbody>\n",
       "    <tr>\n",
       "      <th>0</th>\n",
       "      <td>https://www.graodegente.com.br/roupinhas-3/cas...</td>\n",
       "      <td>Casaquinho Tricot Jacquard Geométrico Cinza, R...</td>\n",
       "      <td>[168087]</td>\n",
       "      <td>None</td>\n",
       "      <td>[Tamanho]</td>\n",
       "      <td>[Roupinhas]</td>\n",
       "      <td>de R$154,27</td>\n",
       "      <td>R$127,36</td>\n",
       "      <td>[120.99]</td>\n",
       "      <td>\\r\\n                            12x de R$12,42...</td>\n",
       "      <td>21%</td>\n",
       "    </tr>\n",
       "    <tr>\n",
       "      <th>1</th>\n",
       "      <td>https://www.graodegente.com.br/kit-berco/kit-b...</td>\n",
       "      <td>Kit Berço Trança Theodora Princesa</td>\n",
       "      <td>[168086]</td>\n",
       "      <td>Rosa</td>\n",
       "      <td>[Número de Peças, Cor: , Rosa]</td>\n",
       "      <td>[Kit Berço]</td>\n",
       "      <td>de R$133,32</td>\n",
       "      <td>R$106,66</td>\n",
       "      <td>[101.33]</td>\n",
       "      <td>\\r\\n                            12x de R$10,40...</td>\n",
       "      <td>23%</td>\n",
       "    </tr>\n",
       "    <tr>\n",
       "      <th>2</th>\n",
       "      <td>https://www.graodegente.com.br/kit-berco/kit-b...</td>\n",
       "      <td>Kit Berço Trança Teddy Príncipe Azul Marinho</td>\n",
       "      <td>[168085]</td>\n",
       "      <td>Azul Marinho</td>\n",
       "      <td>[Número de Peças, Cor: , Azul Marinho]</td>\n",
       "      <td>[Kit Berço]</td>\n",
       "      <td>de R$133,32</td>\n",
       "      <td>R$106,66</td>\n",
       "      <td>[101.33]</td>\n",
       "      <td>\\r\\n                            12x de R$10,40...</td>\n",
       "      <td>23%</td>\n",
       "    </tr>\n",
       "    <tr>\n",
       "      <th>3</th>\n",
       "      <td>https://www.graodegente.com.br/roupinhas-3/cas...</td>\n",
       "      <td>Casaquinho Tricot Vazado Rosa Tam G</td>\n",
       "      <td>[168084]</td>\n",
       "      <td>Rosa</td>\n",
       "      <td>[Tamanho, Cor: , Rosa]</td>\n",
       "      <td>[Roupinhas]</td>\n",
       "      <td>de R$154,27</td>\n",
       "      <td>R$127,36</td>\n",
       "      <td>[120.99]</td>\n",
       "      <td>\\r\\n                            12x de R$12,42...</td>\n",
       "      <td>21%</td>\n",
       "    </tr>\n",
       "    <tr>\n",
       "      <th>4</th>\n",
       "      <td>https://www.graodegente.com.br/kit-berco/kit-b...</td>\n",
       "      <td>Kit Berço Trança Teddy Príncipe Azul</td>\n",
       "      <td>[168083]</td>\n",
       "      <td>Azul</td>\n",
       "      <td>[Número de Peças, Cor: , Azul]</td>\n",
       "      <td>[Kit Berço]</td>\n",
       "      <td>de R$133,32</td>\n",
       "      <td>R$106,66</td>\n",
       "      <td>[101.33]</td>\n",
       "      <td>\\r\\n                            12x de R$10,40...</td>\n",
       "      <td>23%</td>\n",
       "    </tr>\n",
       "  </tbody>\n",
       "</table>\n",
       "</div>"
      ],
      "text/plain": [
       "                                                 url  \\\n",
       "0  https://www.graodegente.com.br/roupinhas-3/cas...   \n",
       "1  https://www.graodegente.com.br/kit-berco/kit-b...   \n",
       "2  https://www.graodegente.com.br/kit-berco/kit-b...   \n",
       "3  https://www.graodegente.com.br/roupinhas-3/cas...   \n",
       "4  https://www.graodegente.com.br/kit-berco/kit-b...   \n",
       "\n",
       "                                                nome        id           cor  \\\n",
       "0  Casaquinho Tricot Jacquard Geométrico Cinza, R...  [168087]          None   \n",
       "1                 Kit Berço Trança Theodora Princesa  [168086]          Rosa   \n",
       "2       Kit Berço Trança Teddy Príncipe Azul Marinho  [168085]  Azul Marinho   \n",
       "3                Casaquinho Tricot Vazado Rosa Tam G  [168084]          Rosa   \n",
       "4               Kit Berço Trança Teddy Príncipe Azul  [168083]          Azul   \n",
       "\n",
       "                                    espec    categoria preco_antigo  \\\n",
       "0                               [Tamanho]  [Roupinhas]  de R$154,27   \n",
       "1          [Número de Peças, Cor: , Rosa]  [Kit Berço]  de R$133,32   \n",
       "2  [Número de Peças, Cor: , Azul Marinho]  [Kit Berço]  de R$133,32   \n",
       "3                  [Tamanho, Cor: , Rosa]  [Roupinhas]  de R$154,27   \n",
       "4          [Número de Peças, Cor: , Azul]  [Kit Berço]  de R$133,32   \n",
       "\n",
       "  preco_atual preco_boleto                                   condicao_parcela  \\\n",
       "0   R$127,36      [120.99]  \\r\\n                            12x de R$12,42...   \n",
       "1   R$106,66      [101.33]  \\r\\n                            12x de R$10,40...   \n",
       "2   R$106,66      [101.33]  \\r\\n                            12x de R$10,40...   \n",
       "3   R$127,36      [120.99]  \\r\\n                            12x de R$12,42...   \n",
       "4   R$106,66      [101.33]  \\r\\n                            12x de R$10,40...   \n",
       "\n",
       "  desconto_destaque  \n",
       "0               21%  \n",
       "1               23%  \n",
       "2               23%  \n",
       "3               21%  \n",
       "4               23%  "
      ]
     },
     "execution_count": 4,
     "metadata": {},
     "output_type": "execute_result"
    }
   ],
   "source": [
    "df_raw.head()"
   ]
  },
  {
   "cell_type": "code",
   "execution_count": null,
   "metadata": {},
   "outputs": [],
   "source": []
  }
 ],
 "metadata": {
  "kernelspec": {
   "display_name": "Python 3 (ipykernel)",
   "language": "python",
   "name": "python3"
  },
  "language_info": {
   "codemirror_mode": {
    "name": "ipython",
    "version": 3
   },
   "file_extension": ".py",
   "mimetype": "text/x-python",
   "name": "python",
   "nbconvert_exporter": "python",
   "pygments_lexer": "ipython3",
   "version": "3.8.10"
  }
 },
 "nbformat": 4,
 "nbformat_minor": 4
}
