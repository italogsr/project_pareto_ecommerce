{
 "cells": [
  {
   "cell_type": "code",
   "execution_count": 1,
   "id": "9bcff731",
   "metadata": {},
   "outputs": [],
   "source": [
    "import pandas as pd"
   ]
  },
  {
   "cell_type": "code",
   "execution_count": 2,
   "id": "e74d0775",
   "metadata": {},
   "outputs": [],
   "source": [
    "df_raw = pd.read_json('from_item_loader.json')"
   ]
  },
  {
   "cell_type": "code",
   "execution_count": 3,
   "id": "9f0086ad",
   "metadata": {},
   "outputs": [
    {
     "data": {
      "text/html": [
       "<div>\n",
       "<style scoped>\n",
       "    .dataframe tbody tr th:only-of-type {\n",
       "        vertical-align: middle;\n",
       "    }\n",
       "\n",
       "    .dataframe tbody tr th {\n",
       "        vertical-align: top;\n",
       "    }\n",
       "\n",
       "    .dataframe thead th {\n",
       "        text-align: right;\n",
       "    }\n",
       "</style>\n",
       "<table border=\"1\" class=\"dataframe\">\n",
       "  <thead>\n",
       "    <tr style=\"text-align: right;\">\n",
       "      <th></th>\n",
       "      <th>url</th>\n",
       "      <th>desconto</th>\n",
       "      <th>valor_boleto</th>\n",
       "      <th>nome</th>\n",
       "      <th>imagem</th>\n",
       "      <th>valor_riscado</th>\n",
       "      <th>parcelas</th>\n",
       "      <th>ref</th>\n",
       "      <th>categoria</th>\n",
       "    </tr>\n",
       "  </thead>\n",
       "  <tbody>\n",
       "    <tr>\n",
       "      <th>0</th>\n",
       "      <td>https://www.graodegente.com.br/abajur-1/pisca-...</td>\n",
       "      <td>15.0</td>\n",
       "      <td>41,99</td>\n",
       "      <td>Pisca Pisca Cascata Lilás 3,4m com 200 Lâmpadas</td>\n",
       "      <td>https://dmhxz00kguanp.cloudfront.net/fotos/116...</td>\n",
       "      <td>49,64</td>\n",
       "      <td>10x de R$5,08</td>\n",
       "      <td>116920</td>\n",
       "      <td>Abajur e Luminária</td>\n",
       "    </tr>\n",
       "    <tr>\n",
       "      <th>1</th>\n",
       "      <td>https://www.graodegente.com.br/abajur-1/pisca-...</td>\n",
       "      <td>15.0</td>\n",
       "      <td>41,99</td>\n",
       "      <td>Pisca Pisca Cascata Rosa 3,4m com 200 Lâmpadas...</td>\n",
       "      <td>https://dmhxz00kguanp.cloudfront.net/fotos/116...</td>\n",
       "      <td>49,64</td>\n",
       "      <td>10x de R$5,08</td>\n",
       "      <td>116918</td>\n",
       "      <td>Abajur e Luminária</td>\n",
       "    </tr>\n",
       "    <tr>\n",
       "      <th>2</th>\n",
       "      <td>https://www.graodegente.com.br/abajur-1/abajur...</td>\n",
       "      <td>19.0</td>\n",
       "      <td>74,99</td>\n",
       "      <td>Abajur Safári Aquarela</td>\n",
       "      <td>https://dmhxz00kguanp.cloudfront.net/fotos/156...</td>\n",
       "      <td>92,62</td>\n",
       "      <td>12x de R$7,70</td>\n",
       "      <td>156508</td>\n",
       "      <td>Abajur e Luminária</td>\n",
       "    </tr>\n",
       "    <tr>\n",
       "      <th>3</th>\n",
       "      <td>https://www.graodegente.com.br/abajur-1/abajur...</td>\n",
       "      <td>15.0</td>\n",
       "      <td>86,99</td>\n",
       "      <td>Abajur Simples Tricot Colmeia Verde Malva</td>\n",
       "      <td>https://dmhxz00kguanp.cloudfront.net/fotos/141...</td>\n",
       "      <td>103,15</td>\n",
       "      <td>12x de R$8,93</td>\n",
       "      <td>141849</td>\n",
       "      <td>Abajur e Luminária</td>\n",
       "    </tr>\n",
       "    <tr>\n",
       "      <th>4</th>\n",
       "      <td>https://www.graodegente.com.br/abajur-1/lumina...</td>\n",
       "      <td>28.0</td>\n",
       "      <td>144,99</td>\n",
       "      <td>Luminária de Parede Nuvem Coração 30cm</td>\n",
       "      <td>https://dmhxz00kguanp.cloudfront.net/fotos/100...</td>\n",
       "      <td>203,74</td>\n",
       "      <td>12x de R$14,88</td>\n",
       "      <td>100043</td>\n",
       "      <td>Abajur e Luminária</td>\n",
       "    </tr>\n",
       "  </tbody>\n",
       "</table>\n",
       "</div>"
      ],
      "text/plain": [
       "                                                 url  desconto valor_boleto  \\\n",
       "0  https://www.graodegente.com.br/abajur-1/pisca-...      15.0        41,99   \n",
       "1  https://www.graodegente.com.br/abajur-1/pisca-...      15.0        41,99   \n",
       "2  https://www.graodegente.com.br/abajur-1/abajur...      19.0        74,99   \n",
       "3  https://www.graodegente.com.br/abajur-1/abajur...      15.0        86,99   \n",
       "4  https://www.graodegente.com.br/abajur-1/lumina...      28.0       144,99   \n",
       "\n",
       "                                                nome  \\\n",
       "0    Pisca Pisca Cascata Lilás 3,4m com 200 Lâmpadas   \n",
       "1  Pisca Pisca Cascata Rosa 3,4m com 200 Lâmpadas...   \n",
       "2                            Abajur Safári Aquarela    \n",
       "3          Abajur Simples Tricot Colmeia Verde Malva   \n",
       "4             Luminária de Parede Nuvem Coração 30cm   \n",
       "\n",
       "                                              imagem valor_riscado  \\\n",
       "0  https://dmhxz00kguanp.cloudfront.net/fotos/116...         49,64   \n",
       "1  https://dmhxz00kguanp.cloudfront.net/fotos/116...         49,64   \n",
       "2  https://dmhxz00kguanp.cloudfront.net/fotos/156...         92,62   \n",
       "3  https://dmhxz00kguanp.cloudfront.net/fotos/141...        103,15   \n",
       "4  https://dmhxz00kguanp.cloudfront.net/fotos/100...        203,74   \n",
       "\n",
       "         parcelas     ref            categoria  \n",
       "0   10x de R$5,08  116920  Abajur e Luminária   \n",
       "1   10x de R$5,08  116918  Abajur e Luminária   \n",
       "2   12x de R$7,70  156508  Abajur e Luminária   \n",
       "3   12x de R$8,93  141849  Abajur e Luminária   \n",
       "4  12x de R$14,88  100043  Abajur e Luminária   "
      ]
     },
     "execution_count": 3,
     "metadata": {},
     "output_type": "execute_result"
    }
   ],
   "source": [
    "df_raw.head()"
   ]
  },
  {
   "cell_type": "code",
   "execution_count": 4,
   "id": "8581daba",
   "metadata": {},
   "outputs": [
    {
     "data": {
      "text/plain": [
       "url                 0\n",
       "desconto         4757\n",
       "valor_boleto     4087\n",
       "nome                0\n",
       "imagem              0\n",
       "valor_riscado    4070\n",
       "parcelas          894\n",
       "ref                 0\n",
       "categoria        8168\n",
       "dtype: int64"
      ]
     },
     "execution_count": 4,
     "metadata": {},
     "output_type": "execute_result"
    }
   ],
   "source": [
    "df_raw.isnull().sum()"
   ]
  },
  {
   "cell_type": "code",
   "execution_count": 17,
   "id": "f7366c77",
   "metadata": {},
   "outputs": [
    {
     "ename": "ValueError",
     "evalue": "The truth value of a Series is ambiguous. Use a.empty, a.bool(), a.item(), a.any() or a.all().",
     "output_type": "error",
     "traceback": [
      "\u001b[0;31m---------------------------------------------------------------------------\u001b[0m",
      "\u001b[0;31mValueError\u001b[0m                                Traceback (most recent call last)",
      "Input \u001b[0;32mIn [17]\u001b[0m, in \u001b[0;36m<module>\u001b[0;34m\u001b[0m\n\u001b[0;32m----> 1\u001b[0m df_raw[(df_raw[\u001b[38;5;124m'\u001b[39m\u001b[38;5;124mvalor_boleto\u001b[39m\u001b[38;5;124m'\u001b[39m]\u001b[38;5;241m.\u001b[39misnull() \u001b[38;5;129;01mand\u001b[39;00m df_raw[\u001b[38;5;124m'\u001b[39m\u001b[38;5;124mcategoria\u001b[39m\u001b[38;5;124m'\u001b[39m]\u001b[38;5;241m.\u001b[39misnull())]\u001b[38;5;241m.\u001b[39mhead()\n",
      "File \u001b[0;32m~/envs/env_gdg/lib/python3.8/site-packages/pandas/core/generic.py:1535\u001b[0m, in \u001b[0;36mNDFrame.__nonzero__\u001b[0;34m(self)\u001b[0m\n\u001b[1;32m   1533\u001b[0m \u001b[38;5;129m@final\u001b[39m\n\u001b[1;32m   1534\u001b[0m \u001b[38;5;28;01mdef\u001b[39;00m \u001b[38;5;21m__nonzero__\u001b[39m(\u001b[38;5;28mself\u001b[39m):\n\u001b[0;32m-> 1535\u001b[0m     \u001b[38;5;28;01mraise\u001b[39;00m \u001b[38;5;167;01mValueError\u001b[39;00m(\n\u001b[1;32m   1536\u001b[0m         \u001b[38;5;124mf\u001b[39m\u001b[38;5;124m\"\u001b[39m\u001b[38;5;124mThe truth value of a \u001b[39m\u001b[38;5;132;01m{\u001b[39;00m\u001b[38;5;28mtype\u001b[39m(\u001b[38;5;28mself\u001b[39m)\u001b[38;5;241m.\u001b[39m\u001b[38;5;18m__name__\u001b[39m\u001b[38;5;132;01m}\u001b[39;00m\u001b[38;5;124m is ambiguous. \u001b[39m\u001b[38;5;124m\"\u001b[39m\n\u001b[1;32m   1537\u001b[0m         \u001b[38;5;124m\"\u001b[39m\u001b[38;5;124mUse a.empty, a.bool(), a.item(), a.any() or a.all().\u001b[39m\u001b[38;5;124m\"\u001b[39m\n\u001b[1;32m   1538\u001b[0m     )\n",
      "\u001b[0;31mValueError\u001b[0m: The truth value of a Series is ambiguous. Use a.empty, a.bool(), a.item(), a.any() or a.all()."
     ]
    }
   ],
   "source": []
  },
  {
   "cell_type": "code",
   "execution_count": null,
   "id": "04bc0cbe",
   "metadata": {},
   "outputs": [],
   "source": []
  }
 ],
 "metadata": {
  "kernelspec": {
   "display_name": "Python 3 (ipykernel)",
   "language": "python",
   "name": "python3"
  },
  "language_info": {
   "codemirror_mode": {
    "name": "ipython",
    "version": 3
   },
   "file_extension": ".py",
   "mimetype": "text/x-python",
   "name": "python",
   "nbconvert_exporter": "python",
   "pygments_lexer": "ipython3",
   "version": "3.8.10"
  }
 },
 "nbformat": 4,
 "nbformat_minor": 5
}
