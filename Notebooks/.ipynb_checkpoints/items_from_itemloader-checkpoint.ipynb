{
 "cells": [
  {
   "cell_type": "code",
   "execution_count": 65,
   "id": "9bcff731",
   "metadata": {},
   "outputs": [],
   "source": [
    "import pandas as pd\n",
    "from string import digits"
   ]
  },
  {
   "cell_type": "code",
   "execution_count": 133,
   "id": "e74d0775",
   "metadata": {},
   "outputs": [],
   "source": [
    "df_raw = pd.read_json('v08_03_02.json')"
   ]
  },
  {
   "cell_type": "code",
   "execution_count": 134,
   "id": "f1d32dde",
   "metadata": {},
   "outputs": [
    {
     "data": {
      "text/plain": [
       "url                 0\n",
       "desconto         5052\n",
       "valor_boleto      765\n",
       "nome                0\n",
       "imagem              0\n",
       "valor_riscado    4438\n",
       "parcelas          795\n",
       "ref                 0\n",
       "categoria           0\n",
       "dtype: int64"
      ]
     },
     "execution_count": 134,
     "metadata": {},
     "output_type": "execute_result"
    }
   ],
   "source": [
    "df_raw.isnull().sum()"
   ]
  },
  {
   "cell_type": "markdown",
   "id": "f9945871",
   "metadata": {},
   "source": [
    "# 3 Criação de Features"
   ]
  },
  {
   "cell_type": "markdown",
   "id": "3fc95f7c",
   "metadata": {},
   "source": []
  },
  {
   "cell_type": "code",
   "execution_count": 135,
   "id": "7c119e97",
   "metadata": {},
   "outputs": [],
   "source": [
    "#Criação de Feature à partir da url\n",
    "\n",
    "df_raw['categoria_url'] = df_raw['categoria_url'] = df_raw['url'].apply(lambda x: x.split('/')[3])"
   ]
  },
  {
   "cell_type": "code",
   "execution_count": 138,
   "id": "545f179a",
   "metadata": {},
   "outputs": [],
   "source": [
    "df_raw['categoria_url'] = df_raw['categoria_url'].str.replace('\\d+','', regex=True)\n",
    "df_raw['categoria_url'] = df_raw['categoria_url'].str.replace('-',' ')\n",
    "df_raw['categoria_url'] = df_raw['categoria_url'].str.title()"
   ]
  },
  {
   "cell_type": "code",
   "execution_count": 139,
   "id": "9ce0ddd5",
   "metadata": {},
   "outputs": [
    {
     "data": {
      "text/plain": [
       "Almofada Quarto De Bebe       3228\n",
       "Roupinhas                     2492\n",
       "Quadros E Paineis             1964\n",
       "Papel De Parede               1031\n",
       "Prateleiras Quarto De Bebe     796\n",
       "                              ... \n",
       "Colchonetes                      3\n",
       "Body                             3\n",
       "Acessorios De Carrinho           2\n",
       "Higiene E Protecao               1\n",
       "Moda Praia                       1\n",
       "Name: categoria_url, Length: 105, dtype: int64"
      ]
     },
     "execution_count": 139,
     "metadata": {},
     "output_type": "execute_result"
    }
   ],
   "source": [
    "df_raw['categoria_url'].value_counts()"
   ]
  },
  {
   "cell_type": "code",
   "execution_count": 141,
   "id": "0890b491",
   "metadata": {},
   "outputs": [
    {
     "data": {
      "text/plain": [
       "105"
      ]
     },
     "execution_count": 141,
     "metadata": {},
     "output_type": "execute_result"
    }
   ],
   "source": [
    "df_raw['categoria_url'].nunique()"
   ]
  },
  {
   "cell_type": "markdown",
   "id": "a81a5a07",
   "metadata": {},
   "source": [
    "## Identificar categorias Nulas"
   ]
  },
  {
   "cell_type": "code",
   "execution_count": 142,
   "id": "525f9f7c",
   "metadata": {},
   "outputs": [
    {
     "data": {
      "text/plain": [
       "<AxesSubplot:>"
      ]
     },
     "execution_count": 142,
     "metadata": {},
     "output_type": "execute_result"
    },
    {
     "data": {
      "image/png": "[encoded data removed]",
      "text/plain": [
       "<Figure size 432x288 with 1 Axes>"
      ]
     },
     "metadata": {
      "needs_background": "light"
     },
     "output_type": "display_data"
    }
   ],
   "source": [
    "null_boleto = df_raw[df_raw['valor_boleto'].isnull()]\n",
    "\n",
    "null_boleto['categoria_url'].value_counts()[:20].sort_values().plot(kind='bar')"
   ]
  },
  {
   "cell_type": "code",
   "execution_count": 143,
   "id": "871b392c",
   "metadata": {},
   "outputs": [
    {
     "data": {
      "text/plain": [
       "Tapete Quarto De Bebe           335\n",
       "Quarto De Bebe                   97\n",
       "Roupinhas                        57\n",
       "Bolsa Maternidade                49\n",
       "Infantil                         24\n",
       "Almofada Quarto De Bebe          22\n",
       "Mochilas Maternidade             21\n",
       "Porta Fraldas Quarto De Bebe     15\n",
       "Kit Cama Baba                    14\n",
       "Ninho Para Bebe                  10\n",
       "Cabanas E Tendas                  8\n",
       "Manta E Cobertor                  8\n",
       "Prateleiras Quarto De Bebe        8\n",
       "Cestos Organizadores              7\n",
       "Trocador                          7\n",
       "Lencol                            7\n",
       "Ursinhos                          6\n",
       "Carrinho De Bebe                  6\n",
       "Kit Montessoriano                 6\n",
       "Abajur                            5\n",
       "Name: categoria_url, dtype: int64"
      ]
     },
     "execution_count": 143,
     "metadata": {},
     "output_type": "execute_result"
    }
   ],
   "source": [
    "null_boleto['categoria_url'].value_counts()[:20]"
   ]
  },
  {
   "cell_type": "code",
   "execution_count": 117,
   "id": "c9f1a42d",
   "metadata": {},
   "outputs": [
    {
     "data": {
      "text/plain": [
       "quadros-bastidores-quarto-de-bebe-1    8175\n",
       "Name: categoria, dtype: int64"
      ]
     },
     "execution_count": 117,
     "metadata": {},
     "output_type": "execute_result"
    }
   ],
   "source": [
    "df_quartos = df_raw[df_raw['categoria'] == 'quadros-bastidores-quarto-de-bebe-1']\n",
    "df_quartos['categoria'].value_counts()"
   ]
  },
  {
   "cell_type": "code",
   "execution_count": 53,
   "id": "30f96f7d",
   "metadata": {},
   "outputs": [
    {
     "name": "stderr",
     "output_type": "stream",
     "text": [
      "/tmp/ipykernel_34482/1221775969.py:1: SettingWithCopyWarning: \n",
      "A value is trying to be set on a copy of a slice from a DataFrame.\n",
      "Try using .loc[row_indexer,col_indexer] = value instead\n",
      "\n",
      "See the caveats in the documentation: https://pandas.pydata.org/pandas-docs/stable/user_guide/indexing.html#returning-a-view-versus-a-copy\n",
      "  df_quartos['categoria_url'] = df_raw['url'].apply(lambda x: x.split('/')[3])\n"
     ]
    }
   ],
   "source": [
    "df_quartos['categoria_url'] = df_raw['url'].apply(lambda x: x.split('/')[3])"
   ]
  },
  {
   "cell_type": "code",
   "execution_count": 55,
   "id": "0cce3500",
   "metadata": {},
   "outputs": [
    {
     "data": {
      "text/plain": [
       "array(['ninho-para-bebe', 'moveis-quarto-completo', 'quarto-de-bebe-1',\n",
       "       'quadros-e-paineis', 'camas-2', 'adesivo-parede-quarto-de-bebe',\n",
       "       'quadros-bastidores-quarto-de-bebe', 'prateleiras-quarto-de-bebe',\n",
       "       'berco-1', 'banho-1', 'abajur-1', 'infantil', 'papel-de-parede',\n",
       "       'alimentacao-1', 'berco-portatil-1', 'almofada-quarto-de-bebe',\n",
       "       'almofada-amamentacao-1', 'comoda-1', 'mamadeiras', 'roupinhas-3',\n",
       "       'toalha-bebe-e-roupao-bebe', 'sapatinhos-1',\n",
       "       'cestos-organizadores', 'manta-e-cobertor',\n",
       "       'tapete-quarto-de-bebe', 'kit-berco', 'cestas', 'canguru',\n",
       "       'trocador', 'quarto-montessoriano-de-bebe', 'lencol', 'brinquedos',\n",
       "       'naninhas-e-chocalhos', 'cuidados-do-bebe',\n",
       "       'mobile-quarto-de-bebe', 'lixeiras-quarto-de-bebe',\n",
       "       'potes-quarto-de-bebe', 'cobertor-1',\n",
       "       'farmacinha-quarto-de-bebe-1', 'carrinho-de-bebe',\n",
       "       'guarda-roupas-4', 'kit-higiene-quarto-de-bebe',\n",
       "       'porta-fraldas-quarto-de-bebe', 'kit-acessorios-quarto-de-bebe',\n",
       "       'cortina-quarto-de-bebe', 'bichinhos-de-pelucia',\n",
       "       'bonecas-e-bonecos-1', 'colchoes', 'ursinhos', 'amamentacao',\n",
       "       'organizador-de-berco', 'edredom', 'kit-cama-infantil-3',\n",
       "       'chupeta-1', 'fronha-berco-bebe', 'travesseiro-berco',\n",
       "       'saia-berco-1', 'babador-bebe', 'kit-cama-baba', 'dossel-berco',\n",
       "       'porta-maternidade', 'banheira-bebe', 'caixas-e-baus',\n",
       "       'kit-berco-ninho', 'joia', 'fralda-e-cueiro', 'rolinho-protetor',\n",
       "       'cabanas-e-tendas', 'enfeites-puxador', 'cabide-roupinha-bebe',\n",
       "       'mochilas-maternidade-1', 'bolsa-maternidade', 'varal-decorativo',\n",
       "       'objetos-decorativos', 'higiene-e-protecao',\n",
       "       'mesas-quarto-de-bebe', 'kit-montessoriano',\n",
       "       'porta-retrato-quarto-de-bebe', 'meia',\n",
       "       'kits-berco-e-cama-maternidade-2', 'saidas-maternidade-1',\n",
       "       'presentes-1', 'cestos-de-roupas', 'acessorios-de-seguranca',\n",
       "       'cadeira-de-descanso', 'cadeirinha-de-carro',\n",
       "       'acessorios-de-carrinho'], dtype=object)"
      ]
     },
     "execution_count": 55,
     "metadata": {},
     "output_type": "execute_result"
    }
   ],
   "source": []
  },
  {
   "cell_type": "code",
   "execution_count": null,
   "id": "f81ae88d",
   "metadata": {},
   "outputs": [],
   "source": []
  },
  {
   "cell_type": "code",
   "execution_count": 144,
   "id": "9f0086ad",
   "metadata": {},
   "outputs": [],
   "source": [
    "df_raw['valor_boleto'] = df_raw['valor_boleto'].apply(lambda x: str(x).replace('.','').replace(',','.').strip())\n",
    "df_raw['valor_riscado'] = df_raw['valor_riscado'].apply(lambda x: str(x).replace('.','').replace(',','.').strip())"
   ]
  },
  {
   "cell_type": "code",
   "execution_count": 145,
   "id": "a88e9343",
   "metadata": {},
   "outputs": [],
   "source": [
    "df_raw['categoria_url'] = df_raw['url'].apply(lambda x: x.split('/')[3])"
   ]
  },
  {
   "cell_type": "code",
   "execution_count": 146,
   "id": "bf2f86e6",
   "metadata": {},
   "outputs": [],
   "source": [
    "df_raw['desconto'] = df_raw['desconto']/100"
   ]
  },
  {
   "cell_type": "code",
   "execution_count": 57,
   "id": "8581daba",
   "metadata": {},
   "outputs": [],
   "source": [
    "#df_raw.to_csv('produtos_08-03.csv', index=False)"
   ]
  },
  {
   "cell_type": "code",
   "execution_count": 156,
   "id": "f7366c77",
   "metadata": {},
   "outputs": [
    {
     "data": {
      "text/plain": [
       "url               object\n",
       "desconto         float64\n",
       "valor_boleto      object\n",
       "nome              object\n",
       "imagem            object\n",
       "valor_riscado     object\n",
       "parcelas          object\n",
       "ref                int64\n",
       "categoria         object\n",
       "categoria_url     object\n",
       "dtype: object"
      ]
     },
     "execution_count": 156,
     "metadata": {},
     "output_type": "execute_result"
    }
   ],
   "source": [
    "df_raw['valor_boleto'].astype(float)\n",
    "df_raw['valor_riscado'].astype(float)\n",
    "\n",
    "df_raw.dtypes"
   ]
  },
  {
   "cell_type": "code",
   "execution_count": 164,
   "id": "04bc0cbe",
   "metadata": {},
   "outputs": [],
   "source": [
    "df = df_raw.copy()"
   ]
  },
  {
   "cell_type": "code",
   "execution_count": 166,
   "id": "1e5c53e3",
   "metadata": {},
   "outputs": [],
   "source": [
    "df['valor_boleto'] = pd.to_numeric(df['valor_boleto'], errors='coerce')"
   ]
  },
  {
   "cell_type": "code",
   "execution_count": 167,
   "id": "12ec93e9",
   "metadata": {},
   "outputs": [
    {
     "data": {
      "text/plain": [
       "url               object\n",
       "desconto         float64\n",
       "valor_boleto      object\n",
       "nome              object\n",
       "imagem            object\n",
       "valor_riscado     object\n",
       "parcelas          object\n",
       "ref                int64\n",
       "categoria         object\n",
       "categoria_url     object\n",
       "dtype: object"
      ]
     },
     "execution_count": 167,
     "metadata": {},
     "output_type": "execute_result"
    }
   ],
   "source": [
    "df_raw.dtypes"
   ]
  },
  {
   "cell_type": "code",
   "execution_count": null,
   "id": "f586e4f2",
   "metadata": {},
   "outputs": [],
   "source": []
  }
 ],
 "metadata": {
  "kernelspec": {
   "display_name": "Python 3 (ipykernel)",
   "language": "python",
   "name": "python3"
  },
  "language_info": {
   "codemirror_mode": {
    "name": "ipython",
    "version": 3
   },
   "file_extension": ".py",
   "mimetype": "text/x-python",
   "name": "python",
   "nbconvert_exporter": "python",
   "pygments_lexer": "ipython3",
   "version": "3.8.10"
  }
 },
 "nbformat": 4,
 "nbformat_minor": 5
}
