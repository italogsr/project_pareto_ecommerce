{
 "cells": [
  {
   "cell_type": "code",
   "execution_count": 1,
   "id": "662d2538",
   "metadata": {},
   "outputs": [],
   "source": [
    "import sqlite3"
   ]
  },
  {
   "cell_type": "code",
   "execution_count": null,
   "id": "f5240592",
   "metadata": {},
   "outputs": [],
   "source": [
    "query = \"\"\" CREATE TABE (\n",
    "\n",
    "        url              TEXT,\n",
    "        desconto         REAL,\n",
    "        valor_boleto     REAL,       \n",
    "        nome             TEXT, \n",
    "        imagem           TEXT,\n",
    "        valor_riscado    REAL,            \n",
    "        ref              INT PRIMARY KEY,            \n",
    "        esgotado         TEXT,\n",
    "        promocao         TEXT,\n",
    "        entrega_imediata TEXT,\n",
    "        frete_gratis     TEXT, \n",
    "        lancamento       TEXT, \n",
    "        date_scrapy      TEXT,\n",
    "        categoria_url    TEXT,\n",
    "        n_parcelas       INT,\n",
    "        valor_parcelas   REAL\n",
    ")\"\"\""
   ]
  },
  {
   "cell_type": "code",
   "execution_count": null,
   "id": "5aacf2bd",
   "metadata": {},
   "outputs": [],
   "source": [
    "conn = sqlite.connect('gdg_db.sqlite')\n",
    "cursor = conn.execute(query)\n",
    "conn.commit()\n",
    "conn.close"
   ]
  }
 ],
 "metadata": {
  "kernelspec": {
   "display_name": "Python 3 (ipykernel)",
   "language": "python",
   "name": "python3"
  },
  "language_info": {
   "codemirror_mode": {
    "name": "ipython",
    "version": 3
   },
   "file_extension": ".py",
   "mimetype": "text/x-python",
   "name": "python",
   "nbconvert_exporter": "python",
   "pygments_lexer": "ipython3",
   "version": "3.8.10"
  }
 },
 "nbformat": 4,
 "nbformat_minor": 5
}
