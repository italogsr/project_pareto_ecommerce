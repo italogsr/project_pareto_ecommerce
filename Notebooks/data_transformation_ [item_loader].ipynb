{
 "cells": [
  {
   "cell_type": "markdown",
   "id": "84167d6e",
   "metadata": {},
   "source": [
    "# 0.0 Imports"
   ]
  },
  {
   "cell_type": "code",
   "execution_count": 1,
   "id": "9a8cdd72",
   "metadata": {},
   "outputs": [],
   "source": [
    "import pandas as pd\n",
    "from pandas.core import apply\n",
    "import re"
   ]
  },
  {
   "cell_type": "markdown",
   "id": "f327c4e9",
   "metadata": {},
   "source": [
    "# Primeira Visão\n"
   ]
  },
  {
   "cell_type": "code",
   "execution_count": 2,
   "id": "755f0d86",
   "metadata": {},
   "outputs": [],
   "source": [
    "df_raw = pd.read_json('gdg_scrapy/gdg_home_products.json')"
   ]
  },
  {
   "cell_type": "code",
   "execution_count": 3,
   "id": "08b58ae9",
   "metadata": {},
   "outputs": [
    {
     "data": {
      "text/plain": [
       "categoria        8166\n",
       "url                 0\n",
       "ref                 0\n",
       "nome                0\n",
       "imagem              0\n",
       "valor_riscado    1230\n",
       "valor_boleto     3973\n",
       "parcelas          852\n",
       "desconto         4574\n",
       "dtype: int64"
      ]
     },
     "execution_count": 3,
     "metadata": {},
     "output_type": "execute_result"
    }
   ],
   "source": [
    "#Idenfiticar Problemas na importação dos dados (Percebe-se que o maior problema está nas cores)\n",
    "df_raw.isna().sum()"
   ]
  },
  {
   "cell_type": "code",
   "execution_count": 4,
   "id": "1e717c66",
   "metadata": {},
   "outputs": [
    {
     "data": {
      "text/plain": [
       "categoria        0\n",
       "url              0\n",
       "ref              0\n",
       "nome             0\n",
       "imagem           0\n",
       "valor_riscado    0\n",
       "valor_boleto     0\n",
       "parcelas         0\n",
       "desconto         0\n",
       "dtype: int64"
      ]
     },
     "execution_count": 4,
     "metadata": {},
     "output_type": "execute_result"
    }
   ],
   "source": [
    "df = df_raw.dropna()\n",
    "df.isna().sum()"
   ]
  },
  {
   "cell_type": "code",
   "execution_count": null,
   "id": "0bbd3517",
   "metadata": {},
   "outputs": [],
   "source": []
  },
  {
   "cell_type": "code",
   "execution_count": 5,
   "id": "05bde2ea",
   "metadata": {},
   "outputs": [
    {
     "name": "stderr",
     "output_type": "stream",
     "text": [
      "/tmp/ipykernel_4656/439724552.py:1: SettingWithCopyWarning: \n",
      "A value is trying to be set on a copy of a slice from a DataFrame.\n",
      "Try using .loc[row_indexer,col_indexer] = value instead\n",
      "\n",
      "See the caveats in the documentation: https://pandas.pydata.org/pandas-docs/stable/user_guide/indexing.html#returning-a-view-versus-a-copy\n",
      "  df['ref'] = df['ref'].apply(lambda x: x.replace('Ref: ', '').strip())\n"
     ]
    }
   ],
   "source": [
    "df['ref'] = df['ref'].apply(lambda x: x.replace('Ref: ', '').strip())"
   ]
  },
  {
   "cell_type": "code",
   "execution_count": 6,
   "id": "c3cb77e7",
   "metadata": {},
   "outputs": [
    {
     "name": "stderr",
     "output_type": "stream",
     "text": [
      "/tmp/ipykernel_4656/1833241174.py:1: SettingWithCopyWarning: \n",
      "A value is trying to be set on a copy of a slice from a DataFrame.\n",
      "Try using .loc[row_indexer,col_indexer] = value instead\n",
      "\n",
      "See the caveats in the documentation: https://pandas.pydata.org/pandas-docs/stable/user_guide/indexing.html#returning-a-view-versus-a-copy\n",
      "  df['valor_riscado'] = df['valor_riscado'].apply(lambda x: x.replace('de R$', '')\n"
     ]
    }
   ],
   "source": [
    "df['valor_riscado'] = df['valor_riscado'].apply(lambda x: x.replace('de R$', '')\n",
    "                                                .replace('.','')\n",
    "                                                .replace(',', '.')\n",
    "                                                .strip())"
   ]
  },
  {
   "cell_type": "code",
   "execution_count": 7,
   "id": "cdbc2a49",
   "metadata": {},
   "outputs": [
    {
     "name": "stderr",
     "output_type": "stream",
     "text": [
      "/tmp/ipykernel_4656/4174832780.py:1: SettingWithCopyWarning: \n",
      "A value is trying to be set on a copy of a slice from a DataFrame.\n",
      "Try using .loc[row_indexer,col_indexer] = value instead\n",
      "\n",
      "See the caveats in the documentation: https://pandas.pydata.org/pandas-docs/stable/user_guide/indexing.html#returning-a-view-versus-a-copy\n",
      "  df['valor_boleto'] = df['valor_boleto'].apply(lambda x: x.split()[0]\n"
     ]
    }
   ],
   "source": [
    "df['valor_boleto'] = df['valor_boleto'].apply(lambda x: x.split()[0]\n",
    "                                              .replace('R$', '')\n",
    "                                              .replace('.','')\n",
    "                                              .replace(',','.')\n",
    "                                              .strip())"
   ]
  },
  {
   "cell_type": "code",
   "execution_count": null,
   "id": "2ad9b5c5",
   "metadata": {},
   "outputs": [],
   "source": []
  },
  {
   "cell_type": "code",
   "execution_count": 8,
   "id": "c4a90873",
   "metadata": {},
   "outputs": [
    {
     "name": "stderr",
     "output_type": "stream",
     "text": [
      "/tmp/ipykernel_4656/9617343.py:1: SettingWithCopyWarning: \n",
      "A value is trying to be set on a copy of a slice from a DataFrame.\n",
      "Try using .loc[row_indexer,col_indexer] = value instead\n",
      "\n",
      "See the caveats in the documentation: https://pandas.pydata.org/pandas-docs/stable/user_guide/indexing.html#returning-a-view-versus-a-copy\n",
      "  df['desconto'] = df['desconto'].apply(lambda x: x.strip().replace('%','').strip())\n",
      "/tmp/ipykernel_4656/9617343.py:2: SettingWithCopyWarning: \n",
      "A value is trying to be set on a copy of a slice from a DataFrame.\n",
      "Try using .loc[row_indexer,col_indexer] = value instead\n",
      "\n",
      "See the caveats in the documentation: https://pandas.pydata.org/pandas-docs/stable/user_guide/indexing.html#returning-a-view-versus-a-copy\n",
      "  df['desconto'] = df['desconto'].apply(lambda x: float(x)/100)\n"
     ]
    }
   ],
   "source": [
    "df['desconto'] = df['desconto'].apply(lambda x: x.strip().replace('%','').strip())\n",
    "df['desconto'] = df['desconto'].apply(lambda x: float(x)/100)"
   ]
  },
  {
   "cell_type": "code",
   "execution_count": 9,
   "id": "127f7d82",
   "metadata": {},
   "outputs": [
    {
     "name": "stderr",
     "output_type": "stream",
     "text": [
      "/tmp/ipykernel_4656/3649446229.py:1: SettingWithCopyWarning: \n",
      "A value is trying to be set on a copy of a slice from a DataFrame.\n",
      "Try using .loc[row_indexer,col_indexer] = value instead\n",
      "\n",
      "See the caveats in the documentation: https://pandas.pydata.org/pandas-docs/stable/user_guide/indexing.html#returning-a-view-versus-a-copy\n",
      "  df['n_parcelas'] = df['parcelas'].apply(lambda x: x.split()[0]\n"
     ]
    }
   ],
   "source": [
    "df['n_parcelas'] = df['parcelas'].apply(lambda x: x.split()[0]\n",
    "                     .replace('x', '')\n",
    "                    .strip())"
   ]
  },
  {
   "cell_type": "code",
   "execution_count": 10,
   "id": "be73f7b5",
   "metadata": {},
   "outputs": [
    {
     "name": "stderr",
     "output_type": "stream",
     "text": [
      "/tmp/ipykernel_4656/1274363015.py:1: SettingWithCopyWarning: \n",
      "A value is trying to be set on a copy of a slice from a DataFrame.\n",
      "Try using .loc[row_indexer,col_indexer] = value instead\n",
      "\n",
      "See the caveats in the documentation: https://pandas.pydata.org/pandas-docs/stable/user_guide/indexing.html#returning-a-view-versus-a-copy\n",
      "  df['valor_parcela'] = df['parcelas'].apply(lambda x: x.split()[-1].replace('R$', '')\n"
     ]
    }
   ],
   "source": [
    "df['valor_parcela'] = df['parcelas'].apply(lambda x: x.split()[-1].replace('R$', '')\n",
    "                                            .replace('.', '')\n",
    "                                            .replace(',', '')\n",
    "                                            .strip())"
   ]
  },
  {
   "cell_type": "code",
   "execution_count": 11,
   "id": "cb4dfe94",
   "metadata": {},
   "outputs": [],
   "source": [
    "#df['valor_total'] = df['valor_parcela'].astype(float) * df['n_parcelas'].astype(float)"
   ]
  },
  {
   "cell_type": "code",
   "execution_count": 12,
   "id": "8ca6b0ed",
   "metadata": {},
   "outputs": [
    {
     "data": {
      "text/html": [
       "<div>\n",
       "<style scoped>\n",
       "    .dataframe tbody tr th:only-of-type {\n",
       "        vertical-align: middle;\n",
       "    }\n",
       "\n",
       "    .dataframe tbody tr th {\n",
       "        vertical-align: top;\n",
       "    }\n",
       "\n",
       "    .dataframe thead th {\n",
       "        text-align: right;\n",
       "    }\n",
       "</style>\n",
       "<table border=\"1\" class=\"dataframe\">\n",
       "  <thead>\n",
       "    <tr style=\"text-align: right;\">\n",
       "      <th></th>\n",
       "      <th>categoria</th>\n",
       "      <th>url</th>\n",
       "      <th>ref</th>\n",
       "      <th>nome</th>\n",
       "      <th>imagem</th>\n",
       "      <th>valor_riscado</th>\n",
       "      <th>valor_boleto</th>\n",
       "      <th>parcelas</th>\n",
       "      <th>desconto</th>\n",
       "      <th>n_parcelas</th>\n",
       "      <th>valor_parcela</th>\n",
       "    </tr>\n",
       "  </thead>\n",
       "  <tbody>\n",
       "    <tr>\n",
       "      <th>0</th>\n",
       "      <td>Abajur e Luminária</td>\n",
       "      <td>https://www.graodegente.com.br/abajur-1/pisca-...</td>\n",
       "      <td>116920</td>\n",
       "      <td>Pisca Pisca Cascata Lilás 3,4m com 200 Lâmpadas</td>\n",
       "      <td>https://dmhxz00kguanp.cloudfront.net/fotos/116...</td>\n",
       "      <td>49.64</td>\n",
       "      <td>41.99</td>\n",
       "      <td>\\r\\n                            10x de R$5,08\\...</td>\n",
       "      <td>0.15</td>\n",
       "      <td>10</td>\n",
       "      <td>508</td>\n",
       "    </tr>\n",
       "    <tr>\n",
       "      <th>1</th>\n",
       "      <td>Abajur e Luminária</td>\n",
       "      <td>https://www.graodegente.com.br/abajur-1/pisca-...</td>\n",
       "      <td>116918</td>\n",
       "      <td>Pisca Pisca Cascata Rosa 3,4m com 200 Lâmpadas...</td>\n",
       "      <td>https://dmhxz00kguanp.cloudfront.net/fotos/116...</td>\n",
       "      <td>49.64</td>\n",
       "      <td>41.99</td>\n",
       "      <td>\\r\\n                            10x de R$5,08\\...</td>\n",
       "      <td>0.15</td>\n",
       "      <td>10</td>\n",
       "      <td>508</td>\n",
       "    </tr>\n",
       "    <tr>\n",
       "      <th>2</th>\n",
       "      <td>Abajur e Luminária</td>\n",
       "      <td>https://www.graodegente.com.br/abajur-1/abajur...</td>\n",
       "      <td>156508</td>\n",
       "      <td>Abajur Safári Aquarela</td>\n",
       "      <td>https://dmhxz00kguanp.cloudfront.net/fotos/156...</td>\n",
       "      <td>49.64</td>\n",
       "      <td>74.99</td>\n",
       "      <td>\\r\\n                            12x de R$7,70\\...</td>\n",
       "      <td>0.19</td>\n",
       "      <td>12</td>\n",
       "      <td>770</td>\n",
       "    </tr>\n",
       "    <tr>\n",
       "      <th>3</th>\n",
       "      <td>Abajur e Luminária</td>\n",
       "      <td>https://www.graodegente.com.br/abajur-1/abajur...</td>\n",
       "      <td>76682</td>\n",
       "      <td>Abajur Simples Rosa</td>\n",
       "      <td>https://dmhxz00kguanp.cloudfront.net/fotos/766...</td>\n",
       "      <td>49.64</td>\n",
       "      <td>88.99</td>\n",
       "      <td>\\r\\n                            12x de R$9,13\\...</td>\n",
       "      <td>0.08</td>\n",
       "      <td>12</td>\n",
       "      <td>913</td>\n",
       "    </tr>\n",
       "    <tr>\n",
       "      <th>4</th>\n",
       "      <td>Abajur e Luminária</td>\n",
       "      <td>https://www.graodegente.com.br/abajur-1/abajur...</td>\n",
       "      <td>141849</td>\n",
       "      <td>Abajur Simples Tricot Colmeia Verde Malva</td>\n",
       "      <td>https://dmhxz00kguanp.cloudfront.net/fotos/141...</td>\n",
       "      <td>49.64</td>\n",
       "      <td>86.99</td>\n",
       "      <td>\\r\\n                            12x de R$8,93\\...</td>\n",
       "      <td>0.15</td>\n",
       "      <td>12</td>\n",
       "      <td>893</td>\n",
       "    </tr>\n",
       "  </tbody>\n",
       "</table>\n",
       "</div>"
      ],
      "text/plain": [
       "             categoria                                                url  \\\n",
       "0  Abajur e Luminária   https://www.graodegente.com.br/abajur-1/pisca-...   \n",
       "1  Abajur e Luminária   https://www.graodegente.com.br/abajur-1/pisca-...   \n",
       "2  Abajur e Luminária   https://www.graodegente.com.br/abajur-1/abajur...   \n",
       "3  Abajur e Luminária   https://www.graodegente.com.br/abajur-1/abajur...   \n",
       "4  Abajur e Luminária   https://www.graodegente.com.br/abajur-1/abajur...   \n",
       "\n",
       "      ref                                               nome  \\\n",
       "0  116920    Pisca Pisca Cascata Lilás 3,4m com 200 Lâmpadas   \n",
       "1  116918  Pisca Pisca Cascata Rosa 3,4m com 200 Lâmpadas...   \n",
       "2  156508                            Abajur Safári Aquarela    \n",
       "3   76682                                Abajur Simples Rosa   \n",
       "4  141849          Abajur Simples Tricot Colmeia Verde Malva   \n",
       "\n",
       "                                              imagem valor_riscado  \\\n",
       "0  https://dmhxz00kguanp.cloudfront.net/fotos/116...         49.64   \n",
       "1  https://dmhxz00kguanp.cloudfront.net/fotos/116...         49.64   \n",
       "2  https://dmhxz00kguanp.cloudfront.net/fotos/156...         49.64   \n",
       "3  https://dmhxz00kguanp.cloudfront.net/fotos/766...         49.64   \n",
       "4  https://dmhxz00kguanp.cloudfront.net/fotos/141...         49.64   \n",
       "\n",
       "  valor_boleto                                           parcelas  desconto  \\\n",
       "0        41.99  \\r\\n                            10x de R$5,08\\...      0.15   \n",
       "1        41.99  \\r\\n                            10x de R$5,08\\...      0.15   \n",
       "2        74.99  \\r\\n                            12x de R$7,70\\...      0.19   \n",
       "3        88.99  \\r\\n                            12x de R$9,13\\...      0.08   \n",
       "4        86.99  \\r\\n                            12x de R$8,93\\...      0.15   \n",
       "\n",
       "  n_parcelas valor_parcela  \n",
       "0         10           508  \n",
       "1         10           508  \n",
       "2         12           770  \n",
       "3         12           913  \n",
       "4         12           893  "
      ]
     },
     "execution_count": 12,
     "metadata": {},
     "output_type": "execute_result"
    }
   ],
   "source": [
    "df.head()"
   ]
  },
  {
   "cell_type": "code",
   "execution_count": 23,
   "id": "64bfc120",
   "metadata": {},
   "outputs": [
    {
     "name": "stderr",
     "output_type": "stream",
     "text": [
      "/tmp/ipykernel_4656/968237447.py:1: SettingWithCopyWarning: \n",
      "A value is trying to be set on a copy of a slice from a DataFrame.\n",
      "Try using .loc[row_indexer,col_indexer] = value instead\n",
      "\n",
      "See the caveats in the documentation: https://pandas.pydata.org/pandas-docs/stable/user_guide/indexing.html#returning-a-view-versus-a-copy\n",
      "  df['valor_riscado'] = df['valor_riscado'].astype(float)\n",
      "/tmp/ipykernel_4656/968237447.py:2: SettingWithCopyWarning: \n",
      "A value is trying to be set on a copy of a slice from a DataFrame.\n",
      "Try using .loc[row_indexer,col_indexer] = value instead\n",
      "\n",
      "See the caveats in the documentation: https://pandas.pydata.org/pandas-docs/stable/user_guide/indexing.html#returning-a-view-versus-a-copy\n",
      "  df['valor_boleto'] = df['valor_boleto'].astype(float)\n",
      "/tmp/ipykernel_4656/968237447.py:3: SettingWithCopyWarning: \n",
      "A value is trying to be set on a copy of a slice from a DataFrame.\n",
      "Try using .loc[row_indexer,col_indexer] = value instead\n",
      "\n",
      "See the caveats in the documentation: https://pandas.pydata.org/pandas-docs/stable/user_guide/indexing.html#returning-a-view-versus-a-copy\n",
      "  df['valor_parcela'] = df['valor_parcela'].astype(float)\n"
     ]
    }
   ],
   "source": [
    "df['valor_riscado'] = df['valor_riscado'].astype(float)\n",
    "df['valor_boleto'] = df['valor_boleto'].astype(float)\n",
    "df['valor_parcela'] = df['valor_parcela'].astype(float)\n"
   ]
  },
  {
   "cell_type": "code",
   "execution_count": 15,
   "id": "54931961",
   "metadata": {},
   "outputs": [
    {
     "name": "stderr",
     "output_type": "stream",
     "text": [
      "/tmp/ipykernel_4656/2052111018.py:1: SettingWithCopyWarning: \n",
      "A value is trying to be set on a copy of a slice from a DataFrame.\n",
      "Try using .loc[row_indexer,col_indexer] = value instead\n",
      "\n",
      "See the caveats in the documentation: https://pandas.pydata.org/pandas-docs/stable/user_guide/indexing.html#returning-a-view-versus-a-copy\n",
      "  df['n_parcelas'] = df['n_parcelas'].astype(int)\n"
     ]
    }
   ],
   "source": [
    "df['n_parcelas'] = df['n_parcelas'].astype(int)"
   ]
  },
  {
   "cell_type": "code",
   "execution_count": 16,
   "id": "c840274e",
   "metadata": {},
   "outputs": [
    {
     "data": {
      "text/plain": [
       "categoria         object\n",
       "url               object\n",
       "ref               object\n",
       "nome              object\n",
       "imagem            object\n",
       "valor_riscado    float64\n",
       "valor_boleto     float64\n",
       "parcelas          object\n",
       "desconto         float64\n",
       "n_parcelas         int64\n",
       "valor_parcela    float64\n",
       "dtype: object"
      ]
     },
     "execution_count": 16,
     "metadata": {},
     "output_type": "execute_result"
    }
   ],
   "source": [
    "df.dtypes"
   ]
  },
  {
   "cell_type": "code",
   "execution_count": 24,
   "id": "a1ead028",
   "metadata": {},
   "outputs": [
    {
     "name": "stderr",
     "output_type": "stream",
     "text": [
      "/tmp/ipykernel_4656/2418428534.py:1: SettingWithCopyWarning: \n",
      "A value is trying to be set on a copy of a slice from a DataFrame.\n",
      "Try using .loc[row_indexer,col_indexer] = value instead\n",
      "\n",
      "See the caveats in the documentation: https://pandas.pydata.org/pandas-docs/stable/user_guide/indexing.html#returning-a-view-versus-a-copy\n",
      "  df['valor_total'] = df['n_parcelas'] * df['valor_parcela']\n"
     ]
    }
   ],
   "source": [
    "df['valor_total'] = df['n_parcelas'] * df['valor_parcela']"
   ]
  },
  {
   "cell_type": "code",
   "execution_count": 35,
   "id": "943a18e5",
   "metadata": {},
   "outputs": [
    {
     "data": {
      "text/html": [
       "<div>\n",
       "<style scoped>\n",
       "    .dataframe tbody tr th:only-of-type {\n",
       "        vertical-align: middle;\n",
       "    }\n",
       "\n",
       "    .dataframe tbody tr th {\n",
       "        vertical-align: top;\n",
       "    }\n",
       "\n",
       "    .dataframe thead th {\n",
       "        text-align: right;\n",
       "    }\n",
       "</style>\n",
       "<table border=\"1\" class=\"dataframe\">\n",
       "  <thead>\n",
       "    <tr style=\"text-align: right;\">\n",
       "      <th></th>\n",
       "      <th>categoria</th>\n",
       "      <th>url</th>\n",
       "      <th>ref</th>\n",
       "      <th>nome</th>\n",
       "      <th>imagem</th>\n",
       "      <th>valor_riscado</th>\n",
       "      <th>valor_boleto</th>\n",
       "      <th>parcelas</th>\n",
       "      <th>desconto</th>\n",
       "      <th>n_parcelas</th>\n",
       "      <th>valor_parcela</th>\n",
       "      <th>valor_total</th>\n",
       "    </tr>\n",
       "  </thead>\n",
       "  <tbody>\n",
       "    <tr>\n",
       "      <th>6653</th>\n",
       "      <td>Meia</td>\n",
       "      <td>https://www.graodegente.com.br/meia/kit-meia-i...</td>\n",
       "      <td>146397</td>\n",
       "      <td>Kit Meia Infantil Pinguim 2 Pares</td>\n",
       "      <td>https://dmhxz00kguanp.cloudfront.net/fotos/146...</td>\n",
       "      <td>17.55</td>\n",
       "      <td>30.99</td>\n",
       "      <td>\\r\\n                            7x de R$5,17\\r...</td>\n",
       "      <td>0.09</td>\n",
       "      <td>7</td>\n",
       "      <td>517.0</td>\n",
       "      <td>3619.0</td>\n",
       "    </tr>\n",
       "    <tr>\n",
       "      <th>6965</th>\n",
       "      <td>Meia</td>\n",
       "      <td>https://www.graodegente.com.br/meia/meia-infan...</td>\n",
       "      <td>146318</td>\n",
       "      <td>Meia Infantil Pinguins</td>\n",
       "      <td>https://dmhxz00kguanp.cloudfront.net/fotos/146...</td>\n",
       "      <td>17.55</td>\n",
       "      <td>15.99</td>\n",
       "      <td>\\r\\n                            3x de R$5,61\\r...</td>\n",
       "      <td>0.08</td>\n",
       "      <td>3</td>\n",
       "      <td>561.0</td>\n",
       "      <td>1683.0</td>\n",
       "    </tr>\n",
       "    <tr>\n",
       "      <th>6964</th>\n",
       "      <td>Meia</td>\n",
       "      <td>https://www.graodegente.com.br/meia/meia-infan...</td>\n",
       "      <td>146324</td>\n",
       "      <td>Meia Infantil Cadê o Pinguim Cinza</td>\n",
       "      <td>https://dmhxz00kguanp.cloudfront.net/fotos/146...</td>\n",
       "      <td>17.55</td>\n",
       "      <td>15.99</td>\n",
       "      <td>\\r\\n                            3x de R$5,61\\r...</td>\n",
       "      <td>0.08</td>\n",
       "      <td>3</td>\n",
       "      <td>561.0</td>\n",
       "      <td>1683.0</td>\n",
       "    </tr>\n",
       "    <tr>\n",
       "      <th>6640</th>\n",
       "      <td>Meia</td>\n",
       "      <td>https://www.graodegente.com.br/meia/meia-infan...</td>\n",
       "      <td>147075</td>\n",
       "      <td>Meia Infantil Grid Azul Marinho</td>\n",
       "      <td>https://dmhxz00kguanp.cloudfront.net/fotos/147...</td>\n",
       "      <td>17.55</td>\n",
       "      <td>15.99</td>\n",
       "      <td>\\r\\n                            3x de R$5,61\\r...</td>\n",
       "      <td>0.08</td>\n",
       "      <td>3</td>\n",
       "      <td>561.0</td>\n",
       "      <td>1683.0</td>\n",
       "    </tr>\n",
       "    <tr>\n",
       "      <th>6639</th>\n",
       "      <td>Meia</td>\n",
       "      <td>https://www.graodegente.com.br/meia/meia-bebe-...</td>\n",
       "      <td>147082</td>\n",
       "      <td>Meia Bebê Azul Marinho Grid</td>\n",
       "      <td>https://dmhxz00kguanp.cloudfront.net/fotos/147...</td>\n",
       "      <td>17.55</td>\n",
       "      <td>12.99</td>\n",
       "      <td>\\r\\n                            2x de R$6,84\\r...</td>\n",
       "      <td>0.10</td>\n",
       "      <td>2</td>\n",
       "      <td>684.0</td>\n",
       "      <td>1368.0</td>\n",
       "    </tr>\n",
       "  </tbody>\n",
       "</table>\n",
       "</div>"
      ],
      "text/plain": [
       "     categoria                                                url     ref  \\\n",
       "6653      Meia  https://www.graodegente.com.br/meia/kit-meia-i...  146397   \n",
       "6965      Meia  https://www.graodegente.com.br/meia/meia-infan...  146318   \n",
       "6964      Meia  https://www.graodegente.com.br/meia/meia-infan...  146324   \n",
       "6640      Meia  https://www.graodegente.com.br/meia/meia-infan...  147075   \n",
       "6639      Meia  https://www.graodegente.com.br/meia/meia-bebe-...  147082   \n",
       "\n",
       "                                    nome  \\\n",
       "6653   Kit Meia Infantil Pinguim 2 Pares   \n",
       "6965              Meia Infantil Pinguins   \n",
       "6964  Meia Infantil Cadê o Pinguim Cinza   \n",
       "6640     Meia Infantil Grid Azul Marinho   \n",
       "6639         Meia Bebê Azul Marinho Grid   \n",
       "\n",
       "                                                 imagem  valor_riscado  \\\n",
       "6653  https://dmhxz00kguanp.cloudfront.net/fotos/146...          17.55   \n",
       "6965  https://dmhxz00kguanp.cloudfront.net/fotos/146...          17.55   \n",
       "6964  https://dmhxz00kguanp.cloudfront.net/fotos/146...          17.55   \n",
       "6640  https://dmhxz00kguanp.cloudfront.net/fotos/147...          17.55   \n",
       "6639  https://dmhxz00kguanp.cloudfront.net/fotos/147...          17.55   \n",
       "\n",
       "      valor_boleto                                           parcelas  \\\n",
       "6653         30.99  \\r\\n                            7x de R$5,17\\r...   \n",
       "6965         15.99  \\r\\n                            3x de R$5,61\\r...   \n",
       "6964         15.99  \\r\\n                            3x de R$5,61\\r...   \n",
       "6640         15.99  \\r\\n                            3x de R$5,61\\r...   \n",
       "6639         12.99  \\r\\n                            2x de R$6,84\\r...   \n",
       "\n",
       "      desconto  n_parcelas  valor_parcela  valor_total  \n",
       "6653      0.09           7          517.0       3619.0  \n",
       "6965      0.08           3          561.0       1683.0  \n",
       "6964      0.08           3          561.0       1683.0  \n",
       "6640      0.08           3          561.0       1683.0  \n",
       "6639      0.10           2          684.0       1368.0  "
      ]
     },
     "execution_count": 35,
     "metadata": {},
     "output_type": "execute_result"
    }
   ],
   "source": [
    "df.sort_values('valor_riscado', ascending = True).head()"
   ]
  },
  {
   "cell_type": "code",
   "execution_count": 30,
   "id": "e5edaf12",
   "metadata": {},
   "outputs": [],
   "source": [
    "df_final = df[['ref',\n",
    "               'url',\n",
    "               'nome',\n",
    "               'imagem',\n",
    "               'categoria',\n",
    "               'valor_riscado',\n",
    "               'valor_boleto',\n",
    "               'desconto',\n",
    "               'n_parcelas',\n",
    "               'valor_parcela']]"
   ]
  },
  {
   "cell_type": "code",
   "execution_count": 31,
   "id": "dd9e996f",
   "metadata": {},
   "outputs": [],
   "source": [
    "df_final.to_csv('produtos_05-03.csv', index=False)"
   ]
  },
  {
   "cell_type": "code",
   "execution_count": null,
   "id": "a2095cac",
   "metadata": {},
   "outputs": [],
   "source": []
  },
  {
   "cell_type": "code",
   "execution_count": null,
   "id": "8903fcbb",
   "metadata": {},
   "outputs": [],
   "source": []
  },
  {
   "cell_type": "code",
   "execution_count": null,
   "id": "c9fd1edb",
   "metadata": {},
   "outputs": [],
   "source": []
  },
  {
   "cell_type": "code",
   "execution_count": null,
   "id": "15d650d8",
   "metadata": {},
   "outputs": [],
   "source": []
  }
 ],
 "metadata": {
  "kernelspec": {
   "display_name": "Python 3 (ipykernel)",
   "language": "python",
   "name": "python3"
  },
  "language_info": {
   "codemirror_mode": {
    "name": "ipython",
    "version": 3
   },
   "file_extension": ".py",
   "mimetype": "text/x-python",
   "name": "python",
   "nbconvert_exporter": "python",
   "pygments_lexer": "ipython3",
   "version": "3.8.10"
  }
 },
 "nbformat": 4,
 "nbformat_minor": 5
}
